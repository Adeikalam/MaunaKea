{
 "cells": [
  {
   "cell_type": "code",
   "execution_count": 1,
   "metadata": {},
   "outputs": [],
   "source": [
    "# Entree 1\n",
    "\n",
    "import numpy as np\n",
    "import cv2\n",
    "import pandas as pd\n",
    "import os\n",
    "import json\n",
    "\n",
    "path = \"C:/Users/adeik/MaunaKea/Test/\"\n",
    "patients = {}\n",
    "\n",
    "# Creer un dict avec tous les paths des images par patient\n",
    "for i in range(80):\n",
    "    patients[str(i)] = []\n",
    "    for file in os.listdir(path):\n",
    "        if file.endswith(\"_\" + str(i) + \".png\"):\n",
    "            patients[str(i)] += [file]\n",
    "\n",
    "# creer un json pour recupérer le dict apres\n",
    "with open('unsorted_patients.txt', 'w') as json_file:\n",
    "    json.dump(patients, json_file)\n",
    "\n",
    "targets = pd.read_csv(\"train_target.csv\")\n",
    "targets['patient'] = targets['image_filename'].map(lambda x: x.partition('_')[-1].partition('_')[-1].partition('.')[0])\n",
    "targets = targets.sort_values(by = ['patient', 'image_filename']).set_index(keys = ['image_filename'])\n"
   ]
  },
  {
   "cell_type": "code",
   "execution_count": 3,
   "metadata": {},
   "outputs": [],
   "source": [
    "keys = list(patients.keys())\n",
    "for key in keys:\n",
    "    if (patients[key] == []):\n",
    "        patients.pop(key)\n",
    "        \n",
    "# Entree 19"
   ]
  },
  {
   "cell_type": "code",
   "execution_count": 4,
   "metadata": {},
   "outputs": [],
   "source": [
    "targets.to_csv('new_train_targets.csv', sep = ',')\n"
   ]
  },
  {
   "cell_type": "code",
   "execution_count": null,
   "metadata": {
    "code_folding": [],
    "scrolled": true
   },
   "outputs": [],
   "source": [
    "#help(targets)\n"
   ]
  },
  {
   "cell_type": "markdown",
   "metadata": {},
   "source": [
    "# Widget d'exploration des images\n",
    "\n",
    "nécéssite ipywidgets et bqplot"
   ]
  },
  {
   "cell_type": "code",
   "execution_count": 6,
   "metadata": {
    "code_folding": [
     10,
     45,
     70,
     83
    ],
    "scrolled": false
   },
   "outputs": [
    {
     "data": {
      "application/vnd.jupyter.widget-view+json": {
       "model_id": "c4b3669b8be246b68604a34ced3fb0e0",
       "version_major": 2,
       "version_minor": 0
      },
      "text/plain": [
       "Image(value=b'\\x89PNG\\r\\n\\x1a\\n\\x00\\x00\\x00\\rIHDR\\x00\\x00\\x02\\t\\x00\\x00\\x02\\x07\\x08\\x02\\x00\\x00\\x00\\x9a\\nX\\xdf…"
      ]
     },
     "metadata": {},
     "output_type": "display_data"
    },
    {
     "data": {
      "application/vnd.jupyter.widget-view+json": {
       "model_id": "594a2c36f1d447bf880ca28fc215e1ea",
       "version_major": 2,
       "version_minor": 0
      },
      "text/plain": [
       "Dropdown(description='Patient:', index=1, options=('9', '16', '20', '21', '26', '27', '28', '33', '37', '38', …"
      ]
     },
     "metadata": {},
     "output_type": "display_data"
    },
    {
     "data": {
      "application/vnd.jupyter.widget-view+json": {
       "model_id": "6e4f7216851d418f9d74ac230b77f3ea",
       "version_major": 2,
       "version_minor": 0
      },
      "text/plain": [
       "Text(value='0 : Squamous Epithelium', disabled=True)"
      ]
     },
     "metadata": {},
     "output_type": "display_data"
    },
    {
     "data": {
      "application/vnd.jupyter.widget-view+json": {
       "model_id": "a13ba8db48f54b229f5f32b294363aa8",
       "version_major": 2,
       "version_minor": 0
      },
      "text/plain": [
       "Play(value=0, interval=150, max=23)"
      ]
     },
     "metadata": {},
     "output_type": "display_data"
    },
    {
     "data": {
      "application/vnd.jupyter.widget-view+json": {
       "model_id": "540b732bda9b4f30b42cddd2ca4264eb",
       "version_major": 2,
       "version_minor": 0
      },
      "text/plain": [
       "HBox(children=(Button(description='Prev', style=ButtonStyle()), Button(description='Next', style=ButtonStyle()…"
      ]
     },
     "metadata": {},
     "output_type": "display_data"
    },
    {
     "data": {
      "application/vnd.jupyter.widget-view+json": {
       "model_id": "fc95771c5eab4b8ca2be2d8339f3ea3c",
       "version_major": 2,
       "version_minor": 0
      },
      "text/plain": [
       "Checkbox(value=False, description='Denoise')"
      ]
     },
     "metadata": {},
     "output_type": "display_data"
    }
   ],
   "source": [
    "import ipywidgets as widgets\n",
    "from IPython.display import display\n",
    "\n",
    "# Patient keys\n",
    "if(True):\n",
    "    patient_keys = []\n",
    "    for key in patients.keys():\n",
    "        patient_keys += [key]\n",
    "    \n",
    "# Widgets\n",
    "if(True):\n",
    "    patient_number = widgets.Dropdown(options = patient_keys,\n",
    "                                      value = '16',\n",
    "                                      description = 'Patient:',\n",
    "                                      disabled = False)\n",
    "\n",
    "    file = open(path + patients[patient_number.value][-1], 'rb')\n",
    "    image = file.read() \n",
    "\n",
    "    patient_image = widgets.Image(value = image,\n",
    "                                  format = 'png',\n",
    "                                  width = 300,\n",
    "                                  height = 300)\n",
    "\n",
    "    patient_class = widgets.Text(value = '0 : Squamous Epithelium',\n",
    "                                 disabled = True)\n",
    "    \n",
    "    patient_play = widgets.Play(value = 0,\n",
    "                                min = 0,\n",
    "                                max = len(patients[patient_number.value]) - 1,\n",
    "                                interval = 150,\n",
    "                                step = 1,\n",
    "                                disabled = False)\n",
    "\n",
    "    patient_next = widgets.Button(description = 'Next',\n",
    "                                  disabled = False)\n",
    "\n",
    "    patient_prev = widgets.Button(description = 'Prev',\n",
    "                                  disabled = False)\n",
    "\n",
    "    patient_buttons = widgets.HBox([patient_prev, patient_next])\n",
    "    \n",
    "    patient_denoise = widgets.Checkbox(value = False, description = 'Denoise', disabled = False)\n",
    "\n",
    "# Callbacks\n",
    "if(True):\n",
    "    def next_patient(change):\n",
    "        if (int(patient_number.value) < int(patient_keys[-1])):\n",
    "            patient_number.value = patient_number.options[patient_number.options.index(patient_number.value) + 1]\n",
    "            patient_prev.disabled = False\n",
    "        if(int(patient_number.value) == int(patient_keys[-1])):\n",
    "            patient_next.disabled = True\n",
    "\n",
    "    def prev_patient(change):\n",
    "        if (int(patient_number.value) > int(patient_keys[0])):\n",
    "            patient_number.value = patient_number.options[patient_number.options.index(patient_number.value) - 1]\n",
    "            patient_next.disabled = False\n",
    "        if (int(patient_number.value) == int(patient_keys[0])):\n",
    "            patient_prev.disabled = True\n",
    "\n",
    "    def patient_playspeed(change):\n",
    "        if(patient_speed == 'Slow'):\n",
    "            patient_play.interval = 500\n",
    "\n",
    "        if(patient_speed == 'Regular'):\n",
    "            patient_play.interval = 250\n",
    "\n",
    "        if(patient_speed == 'Fast'):\n",
    "            patient_play.interval = 100\n",
    "\n",
    "    def patient_animate(change):\n",
    "        patient_play.max = len(patients[patient_number.value]) - 1\n",
    "        \n",
    "        # image update\n",
    "        if(True):\n",
    "            if (patient_play.value < 10):\n",
    "                image_path = patients[patient_number.value][patient_play.value].partition('_')[0] + '_' + \\\n",
    "                             str(int(patients[patient_number.value][patient_play.value].partition('_')[-1].partition('_')[0])) + \\\n",
    "                             '_' + patients[patient_number.value][patient_play.value].partition('_')[-1].partition('_')[-1]\n",
    "            else:\n",
    "                    image_path = patients[patient_number.value][patient_play.value]\n",
    "            file = open(path + image_path, 'rb')\n",
    "            image = file.read() \n",
    "            if(patient_denoise.value):\n",
    "                nparr = np.fromstring(image, np.uint8)\n",
    "                img_np = cv2.imdecode(nparr, cv2.IMREAD_COLOR)\n",
    "                image = cv2.fastNlMeansDenoising(img_np, h  = 15)\n",
    "                image = cv2.imencode('.png', image)[1].tostring()\n",
    "            \n",
    "            patient_image.value = image\n",
    "        \n",
    "        # class update\n",
    "        if(False):\n",
    "            if(targets.loc[image_path].class_number == 0):\n",
    "                patient_class.value = '0 : Squamous Epithelium'\n",
    "\n",
    "            if(targets.loc[image_path].class_number == 1):\n",
    "                patient_class.value = '1 : Intestinal Metaplasia'\n",
    "\n",
    "            if(targets.loc[image_path].class_number == 2):\n",
    "                patient_class.value = '2 : Gastric Metaplasia'\n",
    "\n",
    "            if(targets.loc[image_path].class_number == 3):\n",
    "                patient_class.value = '3 : Dysplasia and Cancer'\n",
    "\n",
    "# Observes\n",
    "if(True):   \n",
    "    patient_play.observe(patient_animate, 'value')\n",
    "    patient_next.on_click(next_patient)\n",
    "    patient_prev.on_click(prev_patient)\n",
    "    \n",
    "display(patient_image, patient_number,patient_class, patient_play, patient_buttons, patient_denoise)"
   ]
  }
 ],
 "metadata": {
  "hide_input": false,
  "kernelspec": {
   "display_name": "Python 3",
   "language": "python",
   "name": "python3"
  },
  "language_info": {
   "codemirror_mode": {
    "name": "ipython",
    "version": 3
   },
   "file_extension": ".py",
   "mimetype": "text/x-python",
   "name": "python",
   "nbconvert_exporter": "python",
   "pygments_lexer": "ipython3",
   "version": "3.7.3"
  }
 },
 "nbformat": 4,
 "nbformat_minor": 2
}
